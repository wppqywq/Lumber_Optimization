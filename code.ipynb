{
 "cells": [
  {
   "cell_type": "code",
   "execution_count": 37,
   "metadata": {},
   "outputs": [],
   "source": [
    "# import pandas as pd\n",
    "# import numpy as np\n",
    "# from scipy.optimize import linprog\n",
    "import random\n",
    "import matplotlib.pyplot as plt\n",
    "import math\n"
   ]
  },
  {
   "cell_type": "markdown",
   "metadata": {},
   "source": [
    "## Initial optimization"
   ]
  },
  {
   "cell_type": "code",
   "execution_count": 38,
   "metadata": {},
   "outputs": [],
   "source": [
    "# Define the cutting mode\n",
    "\n",
    "cut_patterns = {\n",
    "    \"Pattern 1\": [1250, 1250, 3000, 5000],\n",
    "    \"Pattern 2\": [1250, 1250, 3000, 3000, 2000],\n",
    "    \"Pattern 3\": [2500, 2500, 2500],\n",
    "    \"Pattern 4\": [3500, 2500, 5000],\n",
    "    \"Pattern 5\": [7500, 3500, 5000],\n",
    "    \"Pattern 6\": [7500, 3500, 3000, 1000, 1000]\n",
    "}"
   ]
  },
  {
   "cell_type": "code",
   "execution_count": 39,
   "metadata": {},
   "outputs": [],
   "source": [
    "# Function to simulate the cutting process\n",
    "def simulate_cutting(order):\n",
    "    table = {}  # Current pieces on the table\n",
    "    max_table_length = 0  # Required maximal table length\n",
    "    \n",
    "    for pattern_name in order:\n",
    "        pattern = cut_patterns[pattern_name]\n",
    "        for length in pattern:\n",
    "            table[length] = table.get(length, 0) + 1  # Place the pieces on the table\n",
    "        \n",
    "        # Calculate the current table length\n",
    "        table_length = sum(length * count for length, count in table.items())\n",
    "        max_table_length = max(max_table_length, table_length)\n",
    "        \n",
    "        # Check for completed bundles that can be removed\n",
    "        for length, count in table.items():\n",
    "            if count == sum(cut_patterns[pattern_name].count(length) for pattern_name in order):\n",
    "                table[length] = 0  # Remove completed bundles\n",
    "    \n",
    "    return max_table_length"
   ]
  },
  {
   "cell_type": "code",
   "execution_count": 40,
   "metadata": {},
   "outputs": [
    {
     "data": {
      "image/png": "[encoded data removed]",
      "text/plain": [
       "<Figure size 432x288 with 1 Axes>"
      ]
     },
     "metadata": {
      "needs_background": "light"
     },
     "output_type": "display_data"
    },
    {
     "name": "stdout",
     "output_type": "stream",
     "text": [
      "Optimal Order: ['Pattern 6', 'Pattern 5', 'Pattern 4', 'Pattern 1', 'Pattern 3', 'Pattern 2']\n",
      "Minimal Table Length: 30000 mm\n"
     ]
    }
   ],
   "source": [
    "# Simulated Annealing Algorithm\n",
    "\n",
    "def simulated_annealing(init_temp, cooling_rate, iterations = 1000):\n",
    "    current_order = list(cut_patterns.keys())  # Start with some order\n",
    "    current_length = simulate_cutting(current_order)\n",
    "    best_order = current_order\n",
    "    best_length = current_length\n",
    "    temp = init_temp\n",
    "    lengths = []  # To store lengths for visualization\n",
    "    \n",
    "    # Number of iterations (the more iterations, the better chance of finding a good solution)\n",
    "    for i in range(iterations):\n",
    "        # Generate a neighboring solution by swapping two random patterns\n",
    "        neighbor_order = current_order[:]\n",
    "        a, b = random.sample(range(len(neighbor_order)), 2)\n",
    "        neighbor_order[a], neighbor_order[b] = neighbor_order[b], neighbor_order[a]\n",
    "        neighbor_length = simulate_cutting(neighbor_order)\n",
    "        \n",
    "        # Acceptance criteria\n",
    "        if neighbor_length < current_length or random.random() < math.exp((current_length - neighbor_length) / temp):\n",
    "            current_order, current_length = neighbor_order, neighbor_length\n",
    "            if neighbor_length < best_length:\n",
    "                best_order, best_length = neighbor_order, neighbor_length\n",
    "        \n",
    "        # Cooling\n",
    "        temp *= cooling_rate\n",
    "        lengths.append(best_length)  # Store the best length for visualization\n",
    "\n",
    "    # Visualization\n",
    "    plt.plot(lengths)\n",
    "    plt.ylabel('Table Length')\n",
    "    plt.xlabel('Iteration')\n",
    "    plt.title('Simulated Annealing Optimization')\n",
    "    plt.savefig('plot1.pdf')\n",
    "    plt.show()\n",
    "\n",
    "    return best_order, best_length\n",
    "\n",
    "# Run Simulated Annealing\n",
    "optimal_order, minimal_length = simulated_annealing(init_temp=1000, cooling_rate=0.995)\n",
    "print(f\"Optimal Order: {optimal_order}\")\n",
    "print(f\"Minimal Table Length: {minimal_length} mm\")\n",
    "\n",
    "\n"
   ]
  },
  {
   "cell_type": "markdown",
   "metadata": {},
   "source": [
    "## Extended Scenario Optimization"
   ]
  },
  {
   "cell_type": "code",
   "execution_count": 44,
   "metadata": {},
   "outputs": [],
   "source": [
    "# Given string of cutting patterns\n",
    "patterns_string = \"\"\"\n",
    "5867-5867-5867\n",
    "5767-3331-3331-2172-3331\n",
    "3331-5767-2172-2172-2172-2172 8992-3331-3331-2172 8992-8992-16 5767-5767-5767-699 5767-5767-5767-699 5767-5767-5767-699 8992-2337-1892-1892-1419-1419 8992-8992-16\n",
    "8992-8992-16\n",
    "8992-3035-2070-3035 3035-2337-2070-2070-2070-2070-1419-1419-1419 5867-5867-5867-399\n",
    "5867-5867-5867-399\n",
    "6350-6350-5300\n",
    "6350-6350-5300\n",
    "8992-8992-16 2070-2070-2070-2070-2070-2070-1419-1419-1419-1323 8992-8992-16\n",
    "5867-5867-5867-399\n",
    "5867-5867-5867-399\n",
    "5867-5867-5867-399\n",
    "6350-6350-4829-471\n",
    "6350-6350-4829-471\n",
    "8992-8992-16\n",
    "\"\"\"\n",
    "\n",
    "# Split the string into individual pattern strings\n",
    "pattern_strings = patterns_string.split()\n",
    "\n",
    "# Convert each pattern string into a list of integers\n",
    "cut_patterns = [list(map(int, pattern_string.split('-'))) for pattern_string in pattern_strings]\n",
    "\n",
    "# Example usage:\n",
    "order = list(range(len(cut_patterns)))  # Example order: [0, 1, 2, ...]\n"
   ]
  },
  {
   "cell_type": "code",
   "execution_count": 45,
   "metadata": {},
   "outputs": [],
   "source": [
    "def simulate_cutting(order):\n",
    "    table = {}  # Dictionary to hold the number of pieces of each length on the table\n",
    "    max_length = 0  # Variable to hold the maximum table length encountered\n",
    "\n",
    "    # Iterate through the cut patterns in the specified order\n",
    "    for pattern_index in order:\n",
    "        pattern = cut_patterns[pattern_index]  # Get the current cut pattern\n",
    "        \n",
    "        # Perform the cuts and update the table\n",
    "        for length in pattern:\n",
    "            table[length] = table.get(length, 0) + 1  # Increment the count of pieces of this length on the table\n",
    "        \n",
    "        # Calculate the current table length\n",
    "        current_length = sum(length * count for length, count in table.items())\n",
    "        \n",
    "        # Update the maximum table length if necessary\n",
    "        max_length = max(max_length, current_length)\n",
    "        \n",
    "        # Check for complete bundles and remove them from the table\n",
    "        for length, count in list(table.items()):  # Use list() to avoid modifying the dictionary while iterating\n",
    "            bundle_complete = True  # Assume bundle is complete\n",
    "            for pattern in cut_patterns:\n",
    "                if pattern.count(length) > count:\n",
    "                    bundle_complete = False  # If any pattern requires more pieces of this length, bundle is not complete\n",
    "                    break\n",
    "            if bundle_complete:\n",
    "                del table[length]  # Remove this length from the table\n",
    "\n",
    "    return max_length\n"
   ]
  },
  {
   "cell_type": "code",
   "execution_count": 46,
   "metadata": {},
   "outputs": [
    {
     "data": {
      "image/png": "[encoded data removed]",
      "text/plain": [
       "<Figure size 432x288 with 1 Axes>"
      ]
     },
     "metadata": {
      "needs_background": "light"
     },
     "output_type": "display_data"
    },
    {
     "name": "stdout",
     "output_type": "stream",
     "text": [
      "Optimal Order: [8, 19, 12, 21, 13, 0, 5, 20, 18, 11, 24, 9, 16, 1, 7, 15, 10, 4, 6, 17, 22, 23, 14, 25, 2, 3]\n",
      "Minimal Table Length: 29830 mm\n"
     ]
    }
   ],
   "source": [
    "# Simulated Annealing Algorithm\n",
    "\n",
    "def simulated_annealing(init_temp, cooling_rate, iterations = 1000):\n",
    "    current_order = list(range(len(cut_patterns)))  # Start with some order\n",
    "    current_length = simulate_cutting(current_order)\n",
    "    best_order = current_order\n",
    "    best_length = current_length\n",
    "    temp = init_temp\n",
    "    lengths = []  # To store lengths for visualization\n",
    "\n",
    "    for i in range(iterations):\n",
    "        # Generate a neighboring solution by swapping two random patterns\n",
    "        neighbor_order = current_order[:]\n",
    "        a, b = random.sample(range(len(neighbor_order)), 2)\n",
    "        neighbor_order[a], neighbor_order[b] = neighbor_order[b], neighbor_order[a]\n",
    "        neighbor_length = simulate_cutting(neighbor_order)\n",
    "        \n",
    "        # Acceptance criteria\n",
    "        if neighbor_length < current_length or random.random() < math.exp((current_length - neighbor_length) / temp):\n",
    "            current_order, current_length = neighbor_order, neighbor_length\n",
    "            if neighbor_length < best_length:\n",
    "                best_order, best_length = neighbor_order, neighbor_length\n",
    "        \n",
    "        # Cooling\n",
    "        temp *= cooling_rate\n",
    "        lengths.append(best_length)  # Store the best length for visualization\n",
    "\n",
    "    # Visualization\n",
    "    plt.plot(lengths)\n",
    "    plt.ylabel('Table Length')\n",
    "    plt.xlabel('Iteration')\n",
    "    plt.title('Simulated Annealing Optimization')\n",
    "    plt.savefig('plot2.pdf')\n",
    "    plt.show()\n",
    "\n",
    "    return best_order, best_length\n",
    "\n",
    "# Run Simulated Annealing\n",
    "optimal_order, minimal_length = simulated_annealing(init_temp=1000, cooling_rate=0.995, iterations = 2000)\n",
    "print(f\"Optimal Order: {optimal_order}\")\n",
    "print(f\"Minimal Table Length: {minimal_length} mm\")\n"
   ]
  },
  {
   "cell_type": "code",
   "execution_count": null,
   "metadata": {},
   "outputs": [],
   "source": []
  },
  {
   "cell_type": "code",
   "execution_count": null,
   "metadata": {},
   "outputs": [],
   "source": []
  }
 ],
 "metadata": {
  "kernelspec": {
   "display_name": "Python 3",
   "language": "python",
   "name": "python3"
  },
  "language_info": {
   "codemirror_mode": {
    "name": "ipython",
    "version": 3
   },
   "file_extension": ".py",
   "mimetype": "text/x-python",
   "name": "python",
   "nbconvert_exporter": "python",
   "pygments_lexer": "ipython3",
   "version": "3.8.3"
  }
 },
 "nbformat": 4,
 "nbformat_minor": 2
}
